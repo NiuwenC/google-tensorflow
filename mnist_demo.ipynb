{
  "nbformat": 4,
  "nbformat_minor": 0,
  "metadata": {
    "colab": {
      "name": "mnist-demo.ipynb",
      "provenance": [],
      "authorship_tag": "ABX9TyOlsOpWnPCcJHFktuH0xjyl",
      "include_colab_link": true
    },
    "kernelspec": {
      "name": "python3",
      "display_name": "Python 3"
    },
    "language_info": {
      "name": "python"
    }
  },
  "cells": [
    {
      "cell_type": "markdown",
      "metadata": {
        "id": "view-in-github",
        "colab_type": "text"
      },
      "source": [
        "<a href=\"https://colab.research.google.com/github/NiuwenC/google-tensorflow/blob/main/mnist_demo.ipynb\" target=\"_parent\"><img src=\"https://colab.research.google.com/assets/colab-badge.svg\" alt=\"Open In Colab\"/></a>"
      ]
    },
    {
      "cell_type": "code",
      "metadata": {
        "colab": {
          "base_uri": "https://localhost:8080/"
        },
        "id": "PUEPMpNcCcVo",
        "outputId": "75ac4a63-c47a-465d-9450-aef72efef30b"
      },
      "source": [
        "import tensorflow as tf\n",
        "\n",
        "mnist = tf.keras.datasets.mnist\n",
        "\n",
        "(x_train, y_train), (x_test, y_test) = mnist.load_data()\n",
        "x_train, x_test = x_train / 255.0, x_test / 255.0\n",
        "\n",
        "\n",
        "model = tf.keras.models.Sequential([\n",
        "  tf.keras.layers.Flatten(input_shape=(28, 28)),\n",
        "  tf.keras.layers.Dense(128, activation='relu'),\n",
        "  tf.keras.layers.Dropout(0.2),\n",
        "  tf.keras.layers.Dense(10)\n",
        "])\n",
        "\n",
        "\n"
      ],
      "execution_count": 1,
      "outputs": [
        {
          "output_type": "stream",
          "text": [
            "Downloading data from https://storage.googleapis.com/tensorflow/tf-keras-datasets/mnist.npz\n",
            "11493376/11490434 [==============================] - 0s 0us/step\n"
          ],
          "name": "stdout"
        }
      ]
    },
    {
      "cell_type": "code",
      "metadata": {
        "colab": {
          "base_uri": "https://localhost:8080/"
        },
        "id": "Qo63GY83C6DX",
        "outputId": "5e857a32-e238-4567-afe5-f18f007a607a"
      },
      "source": [
        "predictions = model(x_train[:1]).numpy()\n",
        "predictions"
      ],
      "execution_count": 2,
      "outputs": [
        {
          "output_type": "execute_result",
          "data": {
            "text/plain": [
              "array([[ 0.23814395, -0.34884673, -0.5993761 ,  0.6814533 , -0.7688085 ,\n",
              "         0.20864195, -0.23290697,  0.10692714,  0.04670875, -0.1102995 ]],\n",
              "      dtype=float32)"
            ]
          },
          "metadata": {
            "tags": []
          },
          "execution_count": 2
        }
      ]
    },
    {
      "cell_type": "code",
      "metadata": {
        "colab": {
          "base_uri": "https://localhost:8080/"
        },
        "id": "LxtUC0jsC7gn",
        "outputId": "953cf7d6-fdc7-4e37-ffeb-87b64891b714"
      },
      "source": [
        "tf.nn.softmax(predictions).numpy()"
      ],
      "execution_count": 3,
      "outputs": [
        {
          "output_type": "execute_result",
          "data": {
            "text/plain": [
              "array([[0.12632921, 0.07023878, 0.05467306, 0.19680248, 0.04615193,\n",
              "        0.12265668, 0.07887311, 0.11079421, 0.10431927, 0.08916136]],\n",
              "      dtype=float32)"
            ]
          },
          "metadata": {
            "tags": []
          },
          "execution_count": 3
        }
      ]
    },
    {
      "cell_type": "code",
      "metadata": {
        "id": "pyRPciD2DI9X"
      },
      "source": [
        "loss_fn = tf.keras.losses.SparseCategoricalCrossentropy(from_logits=True)"
      ],
      "execution_count": 4,
      "outputs": []
    },
    {
      "cell_type": "code",
      "metadata": {
        "colab": {
          "base_uri": "https://localhost:8080/"
        },
        "id": "NBIASg3GDKjo",
        "outputId": "1b78ff66-4602-4ce3-88cf-f557fb3cd59d"
      },
      "source": [
        "loss_fn(y_train[:1], predictions).numpy()"
      ],
      "execution_count": 5,
      "outputs": [
        {
          "output_type": "execute_result",
          "data": {
            "text/plain": [
              "2.098366"
            ]
          },
          "metadata": {
            "tags": []
          },
          "execution_count": 5
        }
      ]
    },
    {
      "cell_type": "code",
      "metadata": {
        "colab": {
          "base_uri": "https://localhost:8080/"
        },
        "id": "tmdrelT-DMaj",
        "outputId": "86a5e5bd-c457-4dcf-b20e-8e1a801b12d7"
      },
      "source": [
        "model.compile(optimizer='adam',\n",
        "              loss=loss_fn,\n",
        "              metrics=['accuracy'])\n",
        "model.fit(x_train, y_train, epochs=5)"
      ],
      "execution_count": 6,
      "outputs": [
        {
          "output_type": "stream",
          "text": [
            "Epoch 1/5\n",
            "1875/1875 [==============================] - 5s 2ms/step - loss: 0.4834 - accuracy: 0.8586\n",
            "Epoch 2/5\n",
            "1875/1875 [==============================] - 4s 2ms/step - loss: 0.1483 - accuracy: 0.9560\n",
            "Epoch 3/5\n",
            "1875/1875 [==============================] - 4s 2ms/step - loss: 0.1082 - accuracy: 0.9662\n",
            "Epoch 4/5\n",
            "1875/1875 [==============================] - 4s 2ms/step - loss: 0.0872 - accuracy: 0.9735\n",
            "Epoch 5/5\n",
            "1875/1875 [==============================] - 4s 2ms/step - loss: 0.0727 - accuracy: 0.9766\n"
          ],
          "name": "stdout"
        },
        {
          "output_type": "execute_result",
          "data": {
            "text/plain": [
              "<tensorflow.python.keras.callbacks.History at 0x7fae25f5b190>"
            ]
          },
          "metadata": {
            "tags": []
          },
          "execution_count": 6
        }
      ]
    },
    {
      "cell_type": "code",
      "metadata": {
        "colab": {
          "base_uri": "https://localhost:8080/"
        },
        "id": "tGl5bljQDR1p",
        "outputId": "a2004ea4-96c6-46af-cd6a-b704cdccae64"
      },
      "source": [
        "model.evaluate(x_test,  y_test, verbose=2)"
      ],
      "execution_count": 7,
      "outputs": [
        {
          "output_type": "stream",
          "text": [
            "313/313 - 0s - loss: 0.0702 - accuracy: 0.9796\n"
          ],
          "name": "stdout"
        },
        {
          "output_type": "execute_result",
          "data": {
            "text/plain": [
              "[0.0701650008559227, 0.9796000123023987]"
            ]
          },
          "metadata": {
            "tags": []
          },
          "execution_count": 7
        }
      ]
    },
    {
      "cell_type": "code",
      "metadata": {
        "id": "pd2OZQFoDUJL"
      },
      "source": [
        "probability_model = tf.keras.Sequential([\n",
        "  model,\n",
        "  tf.keras.layers.Softmax()\n",
        "])"
      ],
      "execution_count": 8,
      "outputs": []
    },
    {
      "cell_type": "code",
      "metadata": {
        "colab": {
          "base_uri": "https://localhost:8080/"
        },
        "id": "quPQmEe0DXXf",
        "outputId": "804bf75c-b49f-4eb8-82e9-d9cc60a8e514"
      },
      "source": [
        "probability_model(x_test[:5])"
      ],
      "execution_count": 9,
      "outputs": [
        {
          "output_type": "execute_result",
          "data": {
            "text/plain": [
              "<tf.Tensor: shape=(5, 10), dtype=float32, numpy=\n",
              "array([[8.0593310e-08, 2.4206048e-10, 6.5693879e-05, 2.5943064e-04,\n",
              "        1.0751945e-10, 1.7684773e-07, 1.5010973e-13, 9.9966502e-01,\n",
              "        3.4929701e-07, 9.3431954e-06],\n",
              "       [6.5785642e-08, 6.4951664e-06, 9.9996662e-01, 1.3483747e-05,\n",
              "        2.5417416e-14, 9.3294807e-07, 3.2340921e-07, 9.8741334e-14,\n",
              "        1.2037370e-05, 2.1526351e-14],\n",
              "       [2.1423038e-07, 9.9941051e-01, 1.7986831e-04, 6.0365060e-06,\n",
              "        2.0972748e-05, 1.4491291e-06, 5.5900532e-06, 3.3598315e-04,\n",
              "        3.9135233e-05, 3.0240125e-07],\n",
              "       [9.9994063e-01, 5.0072054e-11, 5.7786692e-05, 5.2092775e-09,\n",
              "        2.8504987e-09, 2.5088744e-07, 5.3194378e-07, 6.0680293e-07,\n",
              "        1.3286121e-09, 2.5816291e-07],\n",
              "       [1.7134497e-06, 1.1695442e-09, 2.8970471e-05, 2.1370796e-07,\n",
              "        9.9569917e-01, 1.6212688e-06, 1.5332571e-06, 2.9154895e-05,\n",
              "        3.1410582e-05, 4.2063165e-03]], dtype=float32)>"
            ]
          },
          "metadata": {
            "tags": []
          },
          "execution_count": 9
        }
      ]
    }
  ]
}